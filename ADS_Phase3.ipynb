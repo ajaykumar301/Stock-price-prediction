{
 "cells": [
  {
   "cell_type": "markdown",
   "metadata": {},
   "source": [
    "# Exploratory Data Analysis\n",
    "\n"
   ]
  },
  {
   "cell_type": "code",
   "execution_count": 7,
   "metadata": {
    "_kg_hide-input": false,
    "jupyter": {
     "outputs_hidden": false
    }
   },
   "outputs": [],
   "source": [
    "from mpl_toolkits.mplot3d import Axes3D\n",
    "from sklearn.preprocessing import StandardScaler\n",
    "import matplotlib.pyplot as plt # plotting\n",
    "import numpy as np # linear algebra\n",
    "import os # accessing directory structure\n",
    "import pandas as pd # data processing, CSV file I/O (e.g. pd.read_csv)\n"
   ]
  },
  {
   "cell_type": "code",
   "execution_count": 8,
   "metadata": {},
   "outputs": [
    {
     "name": "stdout",
     "output_type": "stream",
     "text": [
      "There are 1000 rows and 7 colu\n"
     ]
    }
   ],
   "source": [
    "nRowsRead = 1000 # specify 'None' if want to read whole file\n",
    "# MSFT.csv may have more rows in reality, but we are only loading/previewing the first 1000 rows\n",
    "df1 = pd.read_csv('MSFT.csv', delimiter=',', nrows = nRowsRead)\n",
    "df1.dataframeName = 'MSFT.csv'\n",
    "nRow, nCol = df1.shape\n",
    "print(f'There are {nRow} rows and {nCol} colu')"
   ]
  },
  {
   "cell_type": "markdown",
   "metadata": {},
   "source": [
    "## Basic Data like 10 days open, high, and close, Volume"
   ]
  },
  {
   "cell_type": "code",
   "execution_count": 9,
   "metadata": {},
   "outputs": [
    {
     "name": "stdout",
     "output_type": "stream",
     "text": [
      "         Date      Open      High       Low     Close  Adj Close      Volume\n",
      "0  1986-03-13  0.088542  0.101563  0.088542  0.097222   0.062549  1031788800\n",
      "1  1986-03-14  0.097222  0.102431  0.097222  0.100694   0.064783   308160000\n",
      "2  1986-03-17  0.100694  0.103299  0.100694  0.102431   0.065899   133171200\n",
      "3  1986-03-18  0.102431  0.103299  0.098958  0.099826   0.064224    67766400\n",
      "4  1986-03-19  0.099826  0.100694  0.097222  0.098090   0.063107    47894400\n",
      "5  1986-03-20  0.098090  0.098090  0.094618  0.095486   0.061432    58435200\n",
      "6  1986-03-21  0.095486  0.097222  0.091146  0.092882   0.059756    59990400\n",
      "7  1986-03-24  0.092882  0.092882  0.089410  0.090278   0.058081    65289600\n",
      "8  1986-03-25  0.090278  0.092014  0.089410  0.092014   0.059198    32083200\n",
      "9  1986-03-26  0.092014  0.095486  0.091146  0.094618   0.060873    22752000\n"
     ]
    }
   ],
   "source": [
    "print(df1.head(10))"
   ]
  },
  {
   "cell_type": "markdown",
   "metadata": {},
   "source": [
    "## One Month Price high low open close details and graph \n"
   ]
  },
  {
   "cell_type": "code",
   "execution_count": 10,
   "metadata": {},
   "outputs": [
    {
     "name": "stdout",
     "output_type": "stream",
     "text": [
      "                  High         Low        Open       Close\n",
      "Date                                                      \n",
      "2019-01-02  101.750000   98.940002   99.550003  101.120003\n",
      "2019-01-03  100.190002   97.199997  100.099998   97.400002\n",
      "2019-01-04  102.510002   98.930000   99.720001  101.930000\n",
      "2019-01-07  103.269997  100.980003  101.639999  102.059998\n",
      "2019-01-08  103.970001  101.709999  103.040001  102.800003\n",
      "2019-01-09  104.879997  103.239998  103.860001  104.269997\n",
      "2019-01-10  103.750000  102.379997  103.220001  103.599998\n",
      "2019-01-11  103.440002  101.639999  103.190002  102.800003\n",
      "2019-01-14  102.870003  101.260002  101.900002  102.050003\n",
      "2019-01-15  105.050003  101.879997  102.510002  105.010002\n",
      "2019-01-16  106.260002  104.959999  105.260002  105.379997\n",
      "2019-01-17  106.629997  104.760002  105.000000  106.120003\n",
      "2019-01-18  107.900002  105.910004  107.459999  107.709999\n",
      "2019-01-22  107.099998  104.860001  106.750000  105.680000\n",
      "2019-01-23  107.040001  105.339996  106.120003  106.709999\n",
      "2019-01-24  107.000000  105.339996  106.860001  106.199997\n",
      "2019-01-25  107.879997  106.199997  107.239998  107.169998\n",
      "2019-01-28  106.480003  104.660004  106.260002  105.080002\n",
      "2019-01-29  104.970001  102.169998  104.879997  102.940002\n",
      "2019-01-30  106.379997  104.330002  104.620003  106.379997\n",
      "2019-01-31  105.220001  103.180000  103.800003  104.430000\n"
     ]
    }
   ],
   "source": [
    "# Read the CSV file containing stock price data\n",
    "df = pd.read_csv('MSFT.csv')  # Replace 'stock_data.csv' with your file path\n",
    "\n",
    "# Convert the 'Date' column to a datetime object\n",
    "df['Date'] = pd.to_datetime(df['Date'])\n",
    "\n",
    "# Set the 'Date' column as the index\n",
    "df.set_index('Date', inplace=True)\n",
    "\n",
    "# Filter the data for a specific month (e.g., January 2023)\n",
    "start_date = '2019-01-01'\n",
    "end_date = '2019-01-31'\n",
    "filtered_data = df[start_date:end_date]\n",
    "\n",
    "# Extract the 'High', 'Low', 'Open', and 'Close' columns for the selected month\n",
    "high_low_open_close = filtered_data[['High', 'Low', 'Open', 'Close']]\n",
    "\n",
    "# Print the extracted data\n",
    "print(high_low_open_close)\n"
   ]
  },
  {
   "cell_type": "markdown",
   "metadata": {},
   "source": [
    "## One year Average , High , low , Close , Open valuse"
   ]
  },
  {
   "cell_type": "markdown",
   "metadata": {},
   "source": [
    "## 1986 to 2020 Average High, low, and open, close ,"
   ]
  },
  {
   "cell_type": "code",
   "execution_count": 3,
   "metadata": {},
   "outputs": [
    {
     "name": "stdout",
     "output_type": "stream",
     "text": [
      "           Date        Open        High         Low       Close   Adj Close  \\\n",
      "0    1986-03-13    0.088542    0.101563    0.088542    0.097222    0.062549   \n",
      "1    1986-03-14    0.097222    0.102431    0.097222    0.100694    0.064783   \n",
      "2    1986-03-17    0.100694    0.103299    0.100694    0.102431    0.065899   \n",
      "3    1986-03-18    0.102431    0.103299    0.098958    0.099826    0.064224   \n",
      "4    1986-03-19    0.099826    0.100694    0.097222    0.098090    0.063107   \n",
      "...         ...         ...         ...         ...         ...         ...   \n",
      "8520 2019-12-31  156.770004  157.770004  156.449997  157.699997  157.699997   \n",
      "8521 2020-01-02  158.779999  160.729996  158.330002  160.619995  160.619995   \n",
      "8522 2020-01-03  158.320007  159.949997  158.059998  158.619995  158.619995   \n",
      "8523 2020-01-06  157.080002  159.100006  156.509995  159.029999  159.029999   \n",
      "8524 2020-01-07  159.320007  159.669998  157.330002  157.580002  157.580002   \n",
      "\n",
      "          Volume  Predicted_Close  Predicted_High  Predicted_Open  \\\n",
      "0     1031788800         0.083746        0.091284        0.078950   \n",
      "1      308160000         0.086226        0.095293        0.075230   \n",
      "2      133171200         0.087632        0.097208        0.074570   \n",
      "3       67766400         0.085188        0.096973        0.071419   \n",
      "4       47894400         0.083282        0.094601        0.069342   \n",
      "...          ...              ...             ...             ...   \n",
      "8520    18369400       157.450643      157.330217      158.451290   \n",
      "8521    22622100       160.112864      159.874286      161.895726   \n",
      "8522    21116200       159.551331      159.273778      161.042663   \n",
      "8523    20813700       158.369969      158.183326      160.229942   \n",
      "8524    18017762       158.139423      159.043143      158.948845   \n",
      "\n",
      "      Predicted_Low  \n",
      "0          0.086943  \n",
      "1          0.093557  \n",
      "2          0.096340  \n",
      "3          0.095526  \n",
      "4          0.093443  \n",
      "...             ...  \n",
      "8520     156.890215  \n",
      "8521     159.074288  \n",
      "8522     158.643779  \n",
      "8523     157.319989  \n",
      "8524     158.263144  \n",
      "\n",
      "[8525 rows x 11 columns]\n"
     ]
    }
   ],
   "source": [
    "import pandas as pd\n",
    "import matplotlib.pyplot as plt\n",
    "from sklearn.linear_model import LinearRegression\n",
    "import numpy as np\n",
    "\n",
    "# Load your dataset into a Pandas DataFrame. Replace 'your_data.csv' with your dataset file.\n",
    "data = pd.read_csv('MSFT.csv')\n",
    "\n",
    "# Ensure the dataset contains a 'Date', 'Open', 'High', 'Low', and 'Close' column.\n",
    "# If your columns have different names, adjust the code accordingly.\n",
    "\n",
    "# Convert the 'Date' column to a datetime object.\n",
    "data['Date'] = pd.to_datetime(data['Date'])\n",
    "\n",
    "# Sort the data by date in ascending order (assuming it's not already sorted).\n",
    "data = data.sort_values(by='Date')\n",
    "\n",
    "# Create a feature matrix X and target variable y\n",
    "X = data[['Open', 'High', 'Low']]\n",
    "y = data['Close']\n",
    "\n",
    "# Create and train a linear regression model\n",
    "model = LinearRegression()\n",
    "model.fit(X, y)\n",
    "\n",
    "# Predict the average close, high, open, and low prices for the entire dataset\n",
    "data['Predicted_Close'] = model.predict(X)\n",
    "data['Predicted_High'] = (data['High'] + data['Predicted_Close'] + data['Open']) / 3\n",
    "data['Predicted_Open'] = (data['Predicted_Close'] * 2) - data['Low']\n",
    "data['Predicted_Low'] = (data['Low'] + data['Predicted_Close'] + data['Open']) / 3\n",
    "\n",
    "# Display the data frame with predicted prices\n",
    "print(data)\n",
    "\n",
    "\n"
   ]
  }
 ],
 "metadata": {
  "kernelspec": {
   "display_name": "Python 3 (ipykernel)",
   "language": "python",
   "name": "python3"
  },
  "language_info": {
   "codemirror_mode": {
    "name": "ipython",
    "version": 3
   },
   "file_extension": ".py",
   "mimetype": "text/x-python",
   "name": "python",
   "nbconvert_exporter": "python",
   "pygments_lexer": "ipython3",
   "version": "3.10.12"
  }
 },
 "nbformat": 4,
 "nbformat_minor": 4
}
